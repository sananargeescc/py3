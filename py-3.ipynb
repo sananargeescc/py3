{
  "nbformat": 4,
  "nbformat_minor": 0,
  "metadata": {
    "colab": {
      "provenance": [],
      "collapsed_sections": []
    },
    "kernelspec": {
      "name": "python3",
      "display_name": "Python 3"
    },
    "language_info": {
      "name": "python"
    }
  },
  "cells": [
    {
      "cell_type": "code",
      "execution_count": null,
      "metadata": {
        "colab": {
          "base_uri": "https://localhost:8080/"
        },
        "id": "TFk48D8hNJx5",
        "outputId": "dbebc445-c602-4d7d-fc0d-b89b265afa62"
      },
      "outputs": [
        {
          "output_type": "stream",
          "name": "stdout",
          "text": [
            "hello..this is my first function\n"
          ]
        }
      ],
      "source": [
        "def myfunction():\n",
        "   print(\"hello..this is my first function\")\n",
        "myfunction()  "
      ]
    },
    {
      "cell_type": "code",
      "source": [
        "def firstfunction(name):\n",
        "  print(name + \" is good\")\n",
        "firstfunction(\"sana\")  "
      ],
      "metadata": {
        "colab": {
          "base_uri": "https://localhost:8080/"
        },
        "id": "sM2ZqU9CPLRk",
        "outputId": "dd512f60-9705-44ef-8be2-ac0ee1212cd4"
      },
      "execution_count": null,
      "outputs": [
        {
          "output_type": "stream",
          "name": "stdout",
          "text": [
            "sana is good\n"
          ]
        }
      ]
    },
    {
      "cell_type": "code",
      "source": [
        "def secfunction(fname,lname):\n",
        "  print(fname+\" \" + lname + \" is good\")\n",
        "secfunction(\"sana\",\"nargees\")  "
      ],
      "metadata": {
        "colab": {
          "base_uri": "https://localhost:8080/"
        },
        "id": "1Yn3gQoYQfFk",
        "outputId": "03da168b-0b3a-4bb4-c971-e9d1baa72ba1"
      },
      "execution_count": 1,
      "outputs": [
        {
          "output_type": "stream",
          "name": "stdout",
          "text": [
            "sana nargees is good\n"
          ]
        }
      ]
    },
    {
      "cell_type": "code",
      "source": [
        "def thirdfunction(*name):\n",
        "  print(\"the good learner is \"+name[1])\n",
        "thirdfunction(\"sana\",\"rana\",\"safa\")  "
      ],
      "metadata": {
        "colab": {
          "base_uri": "https://localhost:8080/"
        },
        "id": "C0z9nrecRuF0",
        "outputId": "8c0578a1-2165-4d70-f37b-72386964de81"
      },
      "execution_count": null,
      "outputs": [
        {
          "output_type": "stream",
          "name": "stdout",
          "text": [
            "the good learner is rana\n"
          ]
        }
      ]
    },
    {
      "cell_type": "code",
      "source": [
        "def fourthfunction(child1,child2,child3):\n",
        "  print(\"the best student is \" +child2)\n",
        "fourthfunction(child1=\"sana\",child2=\"rana\",child3=\"safa\")  "
      ],
      "metadata": {
        "colab": {
          "base_uri": "https://localhost:8080/"
        },
        "id": "TKFmqpQzUkrv",
        "outputId": "47363cf1-0206-4431-c4fd-735a55eb4999"
      },
      "execution_count": null,
      "outputs": [
        {
          "output_type": "stream",
          "name": "stdout",
          "text": [
            "the best student is rana\n"
          ]
        }
      ]
    },
    {
      "cell_type": "code",
      "source": [
        "#arbitrary keyword arguments\n",
        "def fifthfunction(**kid):\n",
        "  print(\"the best student is \" +kid[\"child2\"])\n",
        "fifthfunction(child1=\"sana\",child2=\"rana\",child3=\"safa\")  "
      ],
      "metadata": {
        "colab": {
          "base_uri": "https://localhost:8080/"
        },
        "id": "1pXvoTWtVM6b",
        "outputId": "89178645-0a0b-49e0-8588-f8c765e1fd3b"
      },
      "execution_count": null,
      "outputs": [
        {
          "output_type": "stream",
          "name": "stdout",
          "text": [
            "the best student is rana\n"
          ]
        }
      ]
    },
    {
      "cell_type": "code",
      "source": [
        "def palindrome(n):\n",
        "  if n==n[::-1]:\n",
        "    print(\"palindrome\")\n",
        "  else:\n",
        "    print(\"not palindrome\")  \n",
        "palindrome(input(\"enter the word:\"))    \n"
      ],
      "metadata": {
        "colab": {
          "base_uri": "https://localhost:8080/"
        },
        "id": "xyl-tu90YUgR",
        "outputId": "18fe567d-f855-4688-b25b-8e4757038e5b"
      },
      "execution_count": null,
      "outputs": [
        {
          "output_type": "stream",
          "name": "stdout",
          "text": [
            "enter the word:ana\n",
            "palindrome\n"
          ]
        }
      ]
    },
    {
      "cell_type": "code",
      "source": [
        "def prime(n):\n",
        "  for i in range(2,n):\n",
        "    if  n%i==0:\n",
        "      print(\"not prime\")\n",
        "      break\n",
        "    else:\n",
        "      print(\"prime\") \n",
        "      break \n",
        "prime(int(input(\"enter the number:\")))  "
      ],
      "metadata": {
        "colab": {
          "base_uri": "https://localhost:8080/"
        },
        "id": "nIs99D3_bxA9",
        "outputId": "2f72b0f6-faf5-449e-feda-f06e437b6b09"
      },
      "execution_count": null,
      "outputs": [
        {
          "output_type": "stream",
          "name": "stdout",
          "text": [
            "enter the number:3\n",
            "prime\n"
          ]
        }
      ]
    },
    {
      "cell_type": "code",
      "source": [],
      "metadata": {
        "id": "Kr51bwkBenmq"
      },
      "execution_count": null,
      "outputs": []
    }
  ]
}